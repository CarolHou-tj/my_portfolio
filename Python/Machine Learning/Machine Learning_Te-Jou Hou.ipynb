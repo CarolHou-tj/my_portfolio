{
 "cells": [
  {
   "cell_type": "code",
   "execution_count": 269,
   "id": "1fc0b644-3201-4b23-a455-92268960f8ac",
   "metadata": {},
   "outputs": [],
   "source": [
    "# All the code in this assignment was written by myself with reference to the lecture notes.\n",
    "# However, when I encountered error messages or when the output did not match my expectations, I asked ChatGPT for clarification.\n",
    "\n",
    "import warnings\n",
    "warnings.filterwarnings('ignore')"
   ]
  },
  {
   "cell_type": "code",
   "execution_count": 270,
   "id": "b4ad6c2d-5742-4cfb-b5f4-5dd48d45c34b",
   "metadata": {},
   "outputs": [],
   "source": [
    "# Part 1: Iris\n",
    "\n",
    "# Load the Iris dataset and split the dataset into a training set and a test set.\n",
    "from sklearn.datasets import load_iris\n",
    "from sklearn.model_selection import train_test_split\n",
    "\n",
    "iris = load_iris()\n",
    "X, y = iris.data, iris.target\n",
    "X_train, X_test, y_train, y_test = train_test_split(X, y, random_state = 100, test_size = 0.15)\n"
   ]
  },
  {
   "cell_type": "code",
   "execution_count": 271,
   "id": "e4b5480b-1c85-4f9d-84a7-062bc804c02c",
   "metadata": {},
   "outputs": [],
   "source": [
    "# Train a Decision Tree classifier and predict on the test set.\n",
    "from sklearn import tree\n",
    "\n",
    "DT = tree.DecisionTreeClassifier(criterion = 'entropy')\n",
    "DT.fit(X_train, y_train)\n",
    "DT_predictions = DT.predict(X_test)"
   ]
  },
  {
   "cell_type": "code",
   "execution_count": 272,
   "id": "50ab66eb-31f8-4acd-8699-bd799dd1c237",
   "metadata": {},
   "outputs": [],
   "source": [
    "# Train a KNN classifier and predict on the test set.\n",
    "from sklearn.neighbors import KNeighborsClassifier\n",
    "\n",
    "KNN = KNeighborsClassifier(n_neighbors=5)\n",
    "KNN.fit(X_train, y_train)\n",
    "KNN_predictions = KNN.predict(X_test)"
   ]
  },
  {
   "cell_type": "code",
   "execution_count": 273,
   "id": "9dfb4a43-7956-430a-a256-b28f6bb83a4e",
   "metadata": {},
   "outputs": [
    {
     "name": "stdout",
     "output_type": "stream",
     "text": [
      "The sample input: [6.4 2.8 5.6 2.1]\n",
      "KNN Prediction: virginica\n",
      "DT Prediction: virginica\n",
      "\n",
      "The sample input: [4.8 3.4 1.6 0.2]\n",
      "KNN Prediction: setosa\n",
      "DT Prediction: setosa\n",
      "\n",
      "The sample input: [7.7 2.6 6.9 2.3]\n",
      "KNN Prediction: virginica\n",
      "DT Prediction: virginica\n",
      "\n",
      "The sample input: [5.7 4.4 1.5 0.4]\n",
      "KNN Prediction: setosa\n",
      "DT Prediction: setosa\n",
      "\n",
      "The sample input: [6.3 2.7 4.9 1.8]\n",
      "KNN Prediction: virginica\n",
      "DT Prediction: virginica\n",
      "\n",
      "The sample input: [7.7 3.  6.1 2.3]\n",
      "KNN Prediction: virginica\n",
      "DT Prediction: virginica\n",
      "\n",
      "The sample input: [5.2 4.1 1.5 0.1]\n",
      "KNN Prediction: setosa\n",
      "DT Prediction: setosa\n",
      "\n",
      "The sample input: [4.9 3.  1.4 0.2]\n",
      "KNN Prediction: setosa\n",
      "DT Prediction: setosa\n",
      "\n",
      "The sample input: [6.5 3.  5.5 1.8]\n",
      "KNN Prediction: virginica\n",
      "DT Prediction: virginica\n",
      "\n",
      "The sample input: [4.8 3.  1.4 0.3]\n",
      "KNN Prediction: setosa\n",
      "DT Prediction: setosa\n",
      "\n",
      "The sample input: [5.  3.5 1.3 0.3]\n",
      "KNN Prediction: setosa\n",
      "DT Prediction: setosa\n",
      "\n",
      "The sample input: [6.4 3.2 5.3 2.3]\n",
      "KNN Prediction: virginica\n",
      "DT Prediction: virginica\n",
      "\n",
      "The sample input: [5.  3.4 1.6 0.4]\n",
      "KNN Prediction: setosa\n",
      "DT Prediction: setosa\n",
      "\n",
      "The sample input: [5.2 3.4 1.4 0.2]\n",
      "KNN Prediction: setosa\n",
      "DT Prediction: setosa\n",
      "\n",
      "The sample input: [6.7 3.  5.2 2.3]\n",
      "KNN Prediction: virginica\n",
      "DT Prediction: virginica\n",
      "\n",
      "The sample input: [6.2 2.9 4.3 1.3]\n",
      "KNN Prediction: versicolor\n",
      "DT Prediction: versicolor\n",
      "\n",
      "The sample input: [6.  2.2 4.  1. ]\n",
      "KNN Prediction: versicolor\n",
      "DT Prediction: versicolor\n",
      "\n",
      "The sample input: [7.7 2.8 6.7 2. ]\n",
      "KNN Prediction: virginica\n",
      "DT Prediction: virginica\n",
      "\n",
      "The sample input: [6.8 3.  5.5 2.1]\n",
      "KNN Prediction: virginica\n",
      "DT Prediction: virginica\n",
      "\n",
      "The sample input: [7.2 3.2 6.  1.8]\n",
      "KNN Prediction: virginica\n",
      "DT Prediction: virginica\n",
      "\n",
      "The sample input: [5.4 3.4 1.5 0.4]\n",
      "KNN Prediction: setosa\n",
      "DT Prediction: setosa\n",
      "\n",
      "The sample input: [6.3 2.5 5.  1.9]\n",
      "KNN Prediction: virginica\n",
      "DT Prediction: virginica\n",
      "\n"
     ]
    }
   ],
   "source": [
    "# Find the samples where the classifiers agree.\n",
    "agreements = []\n",
    "for i in range(len(X_test)):\n",
    "    if KNN_predictions[i] == DT_predictions[i]:\n",
    "        agreements.append(X_test[i])\n",
    "\n",
    "DT_agree = DT.predict(agreements)\n",
    "KNN_agree = KNN.predict(agreements)\n",
    "for i, sample in enumerate(agreements):\n",
    "    print(\"The sample input:\", sample)\n",
    "    print(\"KNN Prediction:\", iris.target_names[KNN_agree[i]])\n",
    "    print(\"DT Prediction:\", iris.target_names[DT_agree[i]])\n",
    "    print()"
   ]
  },
  {
   "cell_type": "code",
   "execution_count": 274,
   "id": "d18fafc1-3252-4d42-aae2-ad8f9f718fa2",
   "metadata": {},
   "outputs": [
    {
     "name": "stdout",
     "output_type": "stream",
     "text": [
      "The sample input: [6.7 3.  5.  1.7]\n",
      "KNN Prediction: versicolor\n",
      "DT Prediction: virginica\n",
      "\n"
     ]
    }
   ],
   "source": [
    "# Find the samples where the classifiers disagree.\n",
    "disagreements = []\n",
    "for i in range(len(X_test)):\n",
    "    if KNN_predictions[i] != DT_predictions[i]:\n",
    "        disagreements.append(X_test[i])\n",
    "\n",
    "DT_disagree = DT.predict(disagreements)\n",
    "KNN_disagree = KNN.predict(disagreements)\n",
    "for i, sample in enumerate(disagreements):\n",
    "    print(\"The sample input:\", sample)\n",
    "    print(\"KNN Prediction:\", iris.target_names[KNN_disagree[i]])\n",
    "    print(\"DT Prediction:\", iris.target_names[DT_disagree[i]])\n",
    "    print()"
   ]
  },
  {
   "cell_type": "code",
   "execution_count": 275,
   "id": "8d95be57-d35c-436c-a537-22585e18b6ad",
   "metadata": {},
   "outputs": [],
   "source": [
    "# KNN (K-Nearest Neighbors) makes predictions based on the proximity of data points, whereas decision trees rely on rules derived from data splits. \n",
    "# Among the five nearest data points to [6.7, 3.0, 5.0, 1.7], the majority may belong to the \"versicolor\" class. \n",
    "# However, according to the splitting rules learned by the decision tree, the group that [6.7, 3.0, 5.0, 1.7] falls into has a higher proportion of \"virginica\" samples, \n",
    "# which leads to different predictions by the two methods."
   ]
  },
  {
   "cell_type": "code",
   "execution_count": 276,
   "id": "fb2e1bfb-3d64-44c5-bbdb-2568224db321",
   "metadata": {},
   "outputs": [],
   "source": [
    "# Part 2: Mushrooms\n",
    "\n",
    "# Load the Mushrooms dataset and split the dataset into a training set and a test set.\n",
    "import pandas as pd\n",
    "import os\n",
    "from sklearn.preprocessing import LabelEncoder\n",
    "\n",
    "os.chdir(\"/Users/houderou/Library/Mobile Documents/com~apple~CloudDocs/AMU documents /MS in DS 1/CSC-604-001_Adv Introduction to Coding/HW\")\n",
    "os.getcwd()\n",
    "\n",
    "df = pd.read_csv('mushrooms.csv')\n",
    "\n",
    "encoder = LabelEncoder()\n",
    "for col in df.columns:\n",
    "    df[col] = encoder.fit_transform(df[col])\n",
    "\n",
    "X = df.drop('class', axis=1)\n",
    "y = df['class']\n",
    "\n",
    "X_train, X_test, y_train, y_test = train_test_split(X, y, random_state = 100, test_size = 0.15)"
   ]
  },
  {
   "cell_type": "code",
   "execution_count": 277,
   "id": "2f92fe7b-920d-48eb-a0bc-15036d13db20",
   "metadata": {},
   "outputs": [
    {
     "data": {
      "text/plain": [
       "[Text(0.375, 0.9375, 'X[8] <= 3.5\\ngini = 0.499\\nsamples = 6905\\nvalue = [3593, 3312]'),\n",
       " Text(0.17857142857142858, 0.8125, 'X[20] <= 3.5\\ngini = 0.278\\nsamples = 2809\\nvalue = [469, 2340]'),\n",
       " Text(0.07142857142857142, 0.6875, 'X[19] <= 1.5\\ngini = 0.215\\nsamples = 498\\nvalue = [437, 61]'),\n",
       " Text(0.03571428571428571, 0.5625, 'gini = 0.0\\nsamples = 40\\nvalue = [0, 40]'),\n",
       " Text(0.10714285714285714, 0.5625, 'X[21] <= 0.5\\ngini = 0.087\\nsamples = 458\\nvalue = [437, 21]'),\n",
       " Text(0.07142857142857142, 0.4375, 'gini = 0.0\\nsamples = 21\\nvalue = [0, 21]'),\n",
       " Text(0.14285714285714285, 0.4375, 'gini = 0.0\\nsamples = 437\\nvalue = [437, 0]'),\n",
       " Text(0.2857142857142857, 0.6875, 'X[10] <= 2.0\\ngini = 0.027\\nsamples = 2311\\nvalue = [32, 2279]'),\n",
       " Text(0.25, 0.5625, 'X[12] <= 0.5\\ngini = 0.01\\nsamples = 2291\\nvalue = [12, 2279]'),\n",
       " Text(0.21428571428571427, 0.4375, 'X[3] <= 0.5\\ngini = 0.475\\nsamples = 31\\nvalue = [12, 19]'),\n",
       " Text(0.17857142857142858, 0.3125, 'gini = 0.0\\nsamples = 12\\nvalue = [12, 0]'),\n",
       " Text(0.25, 0.3125, 'gini = 0.0\\nsamples = 19\\nvalue = [0, 19]'),\n",
       " Text(0.2857142857142857, 0.4375, 'gini = 0.0\\nsamples = 2260\\nvalue = [0, 2260]'),\n",
       " Text(0.32142857142857145, 0.5625, 'gini = 0.0\\nsamples = 20\\nvalue = [20, 0]'),\n",
       " Text(0.5714285714285714, 0.8125, 'X[19] <= 1.5\\ngini = 0.362\\nsamples = 4096\\nvalue = [3124, 972]'),\n",
       " Text(0.42857142857142855, 0.6875, 'X[10] <= 0.5\\ngini = 0.219\\nsamples = 600\\nvalue = [75, 525]'),\n",
       " Text(0.39285714285714285, 0.5625, 'gini = 0.0\\nsamples = 75\\nvalue = [75, 0]'),\n",
       " Text(0.4642857142857143, 0.5625, 'gini = 0.0\\nsamples = 525\\nvalue = [0, 525]'),\n",
       " Text(0.7142857142857143, 0.6875, 'X[7] <= 0.5\\ngini = 0.223\\nsamples = 3496\\nvalue = [3049, 447]'),\n",
       " Text(0.5357142857142857, 0.5625, 'X[14] <= 1.5\\ngini = 0.047\\nsamples = 2945\\nvalue = [2874, 71]'),\n",
       " Text(0.5, 0.4375, 'gini = 0.0\\nsamples = 31\\nvalue = [0, 31]'),\n",
       " Text(0.5714285714285714, 0.4375, 'X[2] <= 0.5\\ngini = 0.027\\nsamples = 2914\\nvalue = [2874, 40]'),\n",
       " Text(0.5, 0.3125, 'X[18] <= 2.0\\ngini = 0.484\\nsamples = 39\\nvalue = [23, 16]'),\n",
       " Text(0.4642857142857143, 0.1875, 'gini = 0.0\\nsamples = 23\\nvalue = [23, 0]'),\n",
       " Text(0.5357142857142857, 0.1875, 'gini = 0.0\\nsamples = 16\\nvalue = [0, 16]'),\n",
       " Text(0.6428571428571429, 0.3125, 'X[17] <= 1.5\\ngini = 0.017\\nsamples = 2875\\nvalue = [2851, 24]'),\n",
       " Text(0.6071428571428571, 0.1875, 'gini = 0.0\\nsamples = 2573\\nvalue = [2573, 0]'),\n",
       " Text(0.6785714285714286, 0.1875, 'X[19] <= 6.0\\ngini = 0.146\\nsamples = 302\\nvalue = [278, 24]'),\n",
       " Text(0.6428571428571429, 0.0625, 'gini = 0.0\\nsamples = 24\\nvalue = [0, 24]'),\n",
       " Text(0.7142857142857143, 0.0625, 'gini = 0.0\\nsamples = 278\\nvalue = [278, 0]'),\n",
       " Text(0.8928571428571429, 0.5625, 'X[9] <= 0.5\\ngini = 0.433\\nsamples = 551\\nvalue = [175, 376]'),\n",
       " Text(0.8571428571428571, 0.4375, 'X[1] <= 0.5\\ngini = 0.33\\nsamples = 475\\nvalue = [99, 376]'),\n",
       " Text(0.7857142857142857, 0.3125, 'X[21] <= 1.0\\ngini = 0.499\\nsamples = 155\\nvalue = [81, 74]'),\n",
       " Text(0.75, 0.1875, 'gini = 0.0\\nsamples = 74\\nvalue = [0, 74]'),\n",
       " Text(0.8214285714285714, 0.1875, 'gini = 0.0\\nsamples = 81\\nvalue = [81, 0]'),\n",
       " Text(0.9285714285714286, 0.3125, 'X[14] <= 5.5\\ngini = 0.106\\nsamples = 320\\nvalue = [18, 302]'),\n",
       " Text(0.8928571428571429, 0.1875, 'X[21] <= 1.0\\ngini = 0.403\\nsamples = 25\\nvalue = [18, 7]'),\n",
       " Text(0.8571428571428571, 0.0625, 'gini = 0.0\\nsamples = 7\\nvalue = [0, 7]'),\n",
       " Text(0.9285714285714286, 0.0625, 'gini = 0.0\\nsamples = 18\\nvalue = [18, 0]'),\n",
       " Text(0.9642857142857143, 0.1875, 'gini = 0.0\\nsamples = 295\\nvalue = [0, 295]'),\n",
       " Text(0.9285714285714286, 0.4375, 'gini = 0.0\\nsamples = 76\\nvalue = [76, 0]')]"
      ]
     },
     "execution_count": 277,
     "metadata": {},
     "output_type": "execute_result"
    },
    {
     "data": {
      "image/png": "[encoded data removed]",
      "text/plain": [
       "<Figure size 640x480 with 1 Axes>"
      ]
     },
     "metadata": {},
     "output_type": "display_data"
    }
   ],
   "source": [
    "# Train a Decision Tree classifier.\n",
    "DT_M = tree.DecisionTreeClassifier()\n",
    "DT_M.fit(X_train, y_train)\n",
    "tree.plot_tree(DT_M, filled=True)"
   ]
  },
  {
   "cell_type": "code",
   "execution_count": 278,
   "id": "8e2125d6-065c-4024-af66-6c02286f81ee",
   "metadata": {},
   "outputs": [
    {
     "data": {
      "text/plain": [
       "KNeighborsClassifier(n_neighbors=11)"
      ]
     },
     "execution_count": 278,
     "metadata": {},
     "output_type": "execute_result"
    }
   ],
   "source": [
    "# Train a KNN classifier.\n",
    "KNN_M = KNeighborsClassifier(n_neighbors=11)\n",
    "KNN_M.fit(X_train, y_train)"
   ]
  },
  {
   "cell_type": "code",
   "execution_count": 279,
   "id": "bd9251fb-178e-444d-9d61-98e4174bf214",
   "metadata": {},
   "outputs": [
    {
     "data": {
      "image/png": "[encoded data removed]",
      "text/plain": [
       "<Figure size 1400x600 with 4 Axes>"
      ]
     },
     "metadata": {},
     "output_type": "display_data"
    }
   ],
   "source": [
    "# Build and plot the confusion matrix for both the decision tree and knn.\n",
    "from matplotlib import pyplot as plt\n",
    "\n",
    "DT_test_pred = DT_M.predict(X_test)\n",
    "DT_conf_matrix = confusion_matrix(y_test, DT_test_pred, labels=DT_M.classes_)\n",
    "DT_disp = ConfusionMatrixDisplay(confusion_matrix=DT_conf_matrix, display_labels=DT_M.classes_)\n",
    "\n",
    "KNN_test_pred = KNN_M.predict(X_test)\n",
    "KNN_conf_matrix = confusion_matrix(y_test, KNN_test_pred, labels=KNN_M.classes_)\n",
    "KNN_disp = ConfusionMatrixDisplay(confusion_matrix=KNN_conf_matrix, display_labels=KNN_M.classes_)\n",
    "\n",
    "fig, axes = plt.subplots(1, 2, figsize=(14, 6))\n",
    "\n",
    "DT_disp.plot(ax=axes[0], cmap='inferno')\n",
    "plt.xlabel('y_pred_dt')\n",
    "plt.ylabel('y_true_dt')\n",
    "\n",
    "KNN_disp.plot(ax=axes[1], cmap='inferno')\n",
    "plt.xlabel('y_pred_knn')\n",
    "plt.ylabel('y_true_knn')\n",
    "\n",
    "plt.show()"
   ]
  },
  {
   "cell_type": "code",
   "execution_count": 280,
   "id": "81a320dd-f2c6-439d-810b-ccf30459c0ea",
   "metadata": {},
   "outputs": [],
   "source": [
    "# From the confusion matrix, we can see that the decision tree classifier performs very well with no misclassifications. \n",
    "# However, the K-NN classifier has one false negative and three false positives. \n",
    "# This is likely due to the choice of a large K value, which causes the K-NN model to rely too much on overall trends, leading to overly simplistic and underfitting results.\n",
    "\n",
    "# Therefore, by observing the numbers of true positives, false positives, true negatives, and false negatives in the confusion matrix, we can assess the model's accuracy and misclassification behavior, providing guidance for selecting the right model and parameters."
   ]
  },
  {
   "cell_type": "code",
   "execution_count": 281,
   "id": "d4653074-e119-44a6-9e74-808117b0a62d",
   "metadata": {},
   "outputs": [],
   "source": [
    "# Part 3: Heart Failure\n",
    "\n",
    "# Load the Heart Failure dataset and split the dataset into a training set and a test set.\n",
    "df_HF = pd.read_csv('heart_failure_clinical_records_dataset.csv')\n",
    "\n",
    "X_full = df_HF.drop(columns=[\"DEATH_EVENT\"])\n",
    "y = df_HF[\"DEATH_EVENT\"]\n",
    "\n",
    "X_reduced = df_HF[[\"serum_creatinine\", \"ejection_fraction\"]]\n",
    "\n",
    "X_train_full, X_test_full, y_train, y_test = train_test_split(X_full, y, random_state = 100, test_size = 0.15)\n",
    "X_train_reduced, X_test_reduced = train_test_split(X_reduced, random_state = 100, test_size = 0.15)[0], train_test_split(X_reduced, random_state = 100, test_size = 0.15)[1]"
   ]
  },
  {
   "cell_type": "code",
   "execution_count": 282,
   "id": "a657c3d5-e310-42ec-937a-0815575a6fef",
   "metadata": {},
   "outputs": [
    {
     "data": {
      "text/plain": [
       "DecisionTreeClassifier(criterion='entropy')"
      ]
     },
     "execution_count": 282,
     "metadata": {},
     "output_type": "execute_result"
    }
   ],
   "source": [
    "# Train a Decision Tree classifier.\n",
    "DT_HF_full = tree.DecisionTreeClassifier(criterion=\"entropy\")\n",
    "DT_HF_full.fit(X_train_full, y_train)\n",
    "\n",
    "DT_HF_reduced = tree.DecisionTreeClassifier(criterion=\"entropy\")\n",
    "DT_HF_reduced.fit(X_train_reduced, y_train)"
   ]
  },
  {
   "cell_type": "code",
   "execution_count": 283,
   "id": "b0fa719e-425d-48f3-b04c-362e944ac96a",
   "metadata": {},
   "outputs": [
    {
     "data": {
      "text/plain": [
       "KNeighborsClassifier()"
      ]
     },
     "execution_count": 283,
     "metadata": {},
     "output_type": "execute_result"
    }
   ],
   "source": [
    "# Train a KNN classifier.\n",
    "KNN_HF_full = KNeighborsClassifier(n_neighbors=5)\n",
    "KNN_HF_full.fit(X_train_full, y_train)\n",
    "\n",
    "KNN_HF_reduced = KNeighborsClassifier(n_neighbors=5)\n",
    "KNN_HF_reduced.fit(X_train_reduced, y_train)"
   ]
  },
  {
   "cell_type": "code",
   "execution_count": 284,
   "id": "fdc8074b-6b2d-4195-8252-c6bbca316a7d",
   "metadata": {},
   "outputs": [
    {
     "name": "stdout",
     "output_type": "stream",
     "text": [
      "Full set of features(Decision Tree):\n",
      "              precision    recall  f1-score   support\n",
      "\n",
      "           0       0.71      0.86      0.78        29\n",
      "           1       0.60      0.38      0.46        16\n",
      "\n",
      "    accuracy                           0.69        45\n",
      "   macro avg       0.66      0.62      0.62        45\n",
      "weighted avg       0.67      0.69      0.67        45\n",
      "\n",
      "Reduce set of features(Decision Tree):\n",
      "              precision    recall  f1-score   support\n",
      "\n",
      "           0       0.77      0.83      0.80        29\n",
      "           1       0.64      0.56      0.60        16\n",
      "\n",
      "    accuracy                           0.73        45\n",
      "   macro avg       0.71      0.70      0.70        45\n",
      "weighted avg       0.73      0.73      0.73        45\n",
      "\n",
      "Full set of features(KNN):\n",
      "              precision    recall  f1-score   support\n",
      "\n",
      "           0       0.67      0.83      0.74        29\n",
      "           1       0.44      0.25      0.32        16\n",
      "\n",
      "    accuracy                           0.62        45\n",
      "   macro avg       0.56      0.54      0.53        45\n",
      "weighted avg       0.59      0.62      0.59        45\n",
      "\n",
      "Reduce set of features(KNN):\n",
      "              precision    recall  f1-score   support\n",
      "\n",
      "           0       0.77      0.83      0.80        29\n",
      "           1       0.64      0.56      0.60        16\n",
      "\n",
      "    accuracy                           0.73        45\n",
      "   macro avg       0.71      0.70      0.70        45\n",
      "weighted avg       0.73      0.73      0.73        45\n",
      "\n",
      "Using a simplified feature set (serum creatinine and ejection fraction) improved prediction performance in both classifiers.\n",
      "For the Decision Tree, accuracy increased from 0.69 to 0.73. Similarly, for KNN, accuracy improved from 0.62 to 0.73.\n",
      "These results support the paper’s hypothesis.\n"
     ]
    }
   ],
   "source": [
    "# Predict and display the classification report.\n",
    "from sklearn.metrics import classification_report\n",
    "\n",
    "DT_HF_full_pred = DT_HF_full.predict(X_test_full)\n",
    "print(\"Full set of features(Decision Tree):\")\n",
    "print(classification_report(y_test, DT_HF_full_pred))\n",
    "\n",
    "DT_HF_reduced_pred = DT_HF_reduced.predict(X_test_reduced)\n",
    "print(\"Reduce set of features(Decision Tree):\")\n",
    "print(classification_report(y_test, DT_HF_reduced_pred))\n",
    "\n",
    "KNN_HF_full_pred = KNN_HF_full.predict(X_test_full)\n",
    "print(\"Full set of features(KNN):\")\n",
    "print(classification_report(y_test, KNN_HF_full_pred))\n",
    "\n",
    "KNN_HF_reduced_pred = KNN_HF_reduced.predict(X_test_reduced)\n",
    "print(\"Reduce set of features(KNN):\")\n",
    "print(classification_report(y_test, KNN_HF_reduced_pred))"
   ]
  },
  {
   "cell_type": "code",
   "execution_count": null,
   "id": "66e7fe71-e7ea-42fe-b1a6-342e8964bec9",
   "metadata": {},
   "outputs": [],
   "source": [
    "# Using a simplified feature set (serum creatinine and ejection fraction) improved prediction performance in both classifiers.\n",
    "# For the Decision Tree, accuracy increased from 0.69 to 0.73. Similarly, for KNN, accuracy improved from 0.62 to 0.73.\n",
    "# These results support the paper’s hypothesis."
   ]
  }
 ],
 "metadata": {
  "kernelspec": {
   "display_name": "Python 3 (ipykernel)",
   "language": "python",
   "name": "python3"
  },
  "language_info": {
   "codemirror_mode": {
    "name": "ipython",
    "version": 3
   },
   "file_extension": ".py",
   "mimetype": "text/x-python",
   "name": "python",
   "nbconvert_exporter": "python",
   "pygments_lexer": "ipython3",
   "version": "3.9.13"
  }
 },
 "nbformat": 4,
 "nbformat_minor": 5
}
